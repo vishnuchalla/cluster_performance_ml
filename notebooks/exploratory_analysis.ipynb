{
 "cells": [
  {
   "cell_type": "markdown",
   "metadata": {},
   "source": [
    "# Cluster Performance Data Exploratory Analysis\n",
    "\n",
    "This notebook provides exploratory data analysis for the cluster performance dataset."
   ]
  },
  {
   "cell_type": "code",
   "execution_count": null,
   "metadata": {},
   "outputs": [],
   "source": [
    "import sys\n",
    "import os\n",
    "sys.path.append('..')\n",
    "\n",
    "import pandas as pd\n",
    "import numpy as np\n",
    "import matplotlib.pyplot as plt\n",
    "import seaborn as sns\n",
    "from src.data_preprocessor import ClusterDataPreprocessor\n",
    "\n",
    "# Set style\n",
    "plt.style.use('seaborn-v0_8')\n",
    "sns.set_palette(\"husl\")\n",
    "\n",
    "%matplotlib inline"
   ]
  },
  {
   "cell_type": "markdown",
   "metadata": {},
   "source": [
    "## Load and Explore Data"
   ]
  },
  {
   "cell_type": "code",
   "execution_count": null,
   "metadata": {},
   "outputs": [],
   "source": [
    "# Load data\n",
    "preprocessor = ClusterDataPreprocessor()\n",
    "df = preprocessor.load_data('../data/raw/cluster_data.csv')\n",
    "\n",
    "print(f\"Dataset shape: {df.shape}\")\n",
    "print(f\"Columns: {len(df.columns)}\")\n",
    "df.head()"
   ]
  },
  {
   "cell_type": "markdown",
   "metadata": {},
   "source": [
    "## Data Quality Analysis"
   ]
  },
  {
   "cell_type": "code",
   "execution_count": null,
   "metadata": {},
   "outputs": [],
   "source": [
    "# Missing values\n",
    "missing_data = df.isnull().sum()\n",
    "missing_percent = (missing_data / len(df)) * 100\n",
    "missing_df = pd.DataFrame({\n",
    "    'Missing Count': missing_data,\n",
    "    'Missing Percentage': missing_percent\n",
    "})\n",
    "missing_df = missing_df[missing_df['Missing Count'] > 0].sort_values('Missing Count', ascending=False)\n",
    "\n",
    "print(f\"Columns with missing values: {len(missing_df)}\")\n",
    "missing_df.head(10)"
   ]
  },
  {
   "cell_type": "markdown",
   "metadata": {},
   "source": [
    "## Feature and Target Identification"
   ]
  },
  {
   "cell_type": "code",
   "execution_count": null,
   "metadata": {},
   "outputs": [],
   "source": [
    "# Identify feature and target columns\n",
    "feature_cols, target_cols = preprocessor.identify_columns(df)\n",
    "\n",
    "print(f\"Feature columns: {len(feature_cols)}\")\n",
    "print(f\"Target columns: {len(target_cols)}\")\n",
    "\n",
    "print(\"\\nFeature columns:\")\n",
    "for col in feature_cols:\n",
    "    print(f\"  - {col}\")\n",
    "\n",
    "print(\"\\nTarget columns (first 20):\")\n",
    "for col in target_cols[:20]:\n",
    "    print(f\"  - {col}\")"
   ]
  },
  {
   "cell_type": "markdown",
   "metadata": {},
   "source": [
    "## Feature Analysis"
   ]
  },
  {
   "cell_type": "code",
   "execution_count": null,
   "metadata": {},
   "outputs": [],
   "source": [
    "# Analyze categorical features\n",
    "categorical_features = df[feature_cols].select_dtypes(include=['object']).columns\n",
    "\n",
    "print(f\"Categorical features: {len(categorical_features)}\")\n",
    "\n",
    "fig, axes = plt.subplots(2, 3, figsize=(18, 12))\n",
    "axes = axes.ravel()\n",
    "\n",
    "for i, col in enumerate(categorical_features[:6]):\n",
    "    value_counts = df[col].value_counts().head(10)\n",
    "    axes[i].bar(range(len(value_counts)), value_counts.values)\n",
    "    axes[i].set_title(f'{col} Distribution')\n",
    "    axes[i].set_xticks(range(len(value_counts)))\n",
    "    axes[i].set_xticklabels(value_counts.index, rotation=45, ha='right')\n",
    "\n",
    "plt.tight_layout()\n",
    "plt.show()"
   ]
  },
  {
   "cell_type": "markdown",
   "metadata": {},
   "source": [
    "## Target Metrics Analysis"
   ]
  },
  {
   "cell_type": "code",
   "execution_count": null,
   "metadata": {},
   "outputs": [],
   "source": [
    "# Analyze target distributions\n",
    "numerical_targets = df[target_cols].select_dtypes(include=[np.number]).columns[:12]\n",
    "\n",
    "fig, axes = plt.subplots(3, 4, figsize=(20, 15))\n",
    "axes = axes.ravel()\n",
    "\n",
    "for i, col in enumerate(numerical_targets):\n",
    "    df[col].hist(bins=30, ax=axes[i], alpha=0.7)\n",
    "    axes[i].set_title(col)\n",
    "    axes[i].set_xlabel('Value')\n",
    "    axes[i].set_ylabel('Frequency')\n",
    "\n",
    "plt.tight_layout()\n",
    "plt.show()"
   ]
  },
  {
   "cell_type": "markdown",
   "metadata": {},
   "source": [
    "## Correlation Analysis"
   ]
  },
  {
   "cell_type": "code",
   "execution_count": null,
   "metadata": {},
   "outputs": [],
   "source": [
    "# Correlation between numerical features and targets\n",
    "numerical_features = df[feature_cols].select_dtypes(include=[np.number]).columns\n",
    "sample_targets = df[target_cols].select_dtypes(include=[np.number]).columns[:10]\n",
    "\n",
    "if len(numerical_features) > 0 and len(sample_targets) > 0:\n",
    "    corr_data = df[list(numerical_features) + list(sample_targets)]\n",
    "    correlation_matrix = corr_data.corr()\n",
    "    \n",
    "    plt.figure(figsize=(12, 10))\n",
    "    sns.heatmap(correlation_matrix, annot=False, cmap='coolwarm', center=0)\n",
    "    plt.title('Correlation Matrix (Features vs Sample Targets)')\n",
    "    plt.show()\n",
    "else:\n",
    "    print(\"No numerical features or targets found for correlation analysis\")"
   ]
  },
  {
   "cell_type": "markdown",
   "metadata": {},
   "source": [
    "## Summary Statistics"
   ]
  },
  {
   "cell_type": "code",
   "execution_count": null,
   "metadata": {},
   "outputs": [],
   "source": [
    "# Summary statistics for numerical columns\n",
    "numerical_cols = df.select_dtypes(include=[np.number]).columns\n",
    "summary_stats = df[numerical_cols].describe()\n",
    "\n",
    "print(\"Summary statistics for numerical columns:\")\n",
    "summary_stats.round(4)"
   ]
  },
  {
   "cell_type": "markdown",
   "metadata": {},
   "source": [
    "## Data Preprocessing Preview"
   ]
  },
  {
   "cell_type": "code",
   "execution_count": null,
   "metadata": {},
   "outputs": [],
   "source": [
    "# Preview preprocessing steps\n",
    "print(\"Preprocessing pipeline preview...\")\n",
    "\n",
    "# Clean data\n",
    "df_clean = preprocessor.clean_data(df)\n",
    "print(f\"After cleaning - Missing values: {df_clean.isnull().sum().sum()}\")\n",
    "\n",
    "# Encode categorical features\n",
    "df_encoded = preprocessor.encode_categorical_features(df_clean, fit=True)\n",
    "print(f\"After encoding - Categorical columns: {len(df_encoded.select_dtypes(include=['object']).columns)}\")\n",
    "\n",
    "# Preview feature and target separation\n",
    "X = df_encoded[feature_cols].copy()\n",
    "y = df_encoded[target_cols].copy()\n",
    "\n",
    "print(f\"\\nFeatures shape: {X.shape}\")\n",
    "print(f\"Targets shape: {y.shape}\")\n",
    "\n",
    "print(\"\\nPreprocessing completed successfully!\")"
   ]
  }
 ],
 "metadata": {
  "kernelspec": {
   "display_name": "Python 3",
   "language": "python",
   "name": "python3"
  },
  "language_info": {
   "codemirror_mode": {
    "name": "ipython",
    "version": 3
   },
   "file_extension": ".py",
   "mimetype": "text/x-python",
   "name": "python",
   "nbconvert_exporter": "python",
   "pygments_lexer": "ipython3",
   "version": "3.8.10"
  }
 },
 "nbformat": 4,
 "nbformat_minor": 4
}
